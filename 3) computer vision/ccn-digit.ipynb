{
  "cells": [
    {
      "cell_type": "markdown",
      "metadata": {
        "id": "bOnN5hHv6j77"
      },
      "source": [
        "# 1️⃣8️⃣ **Handwritten Digit Recognition** 7️⃣5️⃣\n",
        "\n",
        "inspired by https://www.youtube.com/watch?v=Z_ikDlimN6A"
      ]
    },
    {
      "cell_type": "markdown",
      "metadata": {
        "id": "sv-57Lq5Tens"
      },
      "source": [
        "## **Environment Setup**"
      ]
    },
    {
      "cell_type": "code",
      "execution_count": 1,
      "metadata": {
        "colab": {
          "base_uri": "https://localhost:8080/"
        },
        "id": "3fS2iTCtTh0u",
        "outputId": "939de6ef-348d-44b7-8ca0-63763683ccdd"
      },
      "outputs": [
        {
          "name": "stdout",
          "output_type": "stream",
          "text": [
            " \n",
            "All modules are installed correctly\n",
            "\n",
            "PyTorch: 1.12.1+cu113\n",
            "TorchVision: 0.13.1+cu113\n",
            "TorchMetrics: 0.10.2\n",
            "MLxtend: 0.21.0\n",
            "\n"
          ]
        }
      ],
      "source": [
        "import torch\n",
        "from torch import nn\n",
        "from torch.utils.data import DataLoader\n",
        "\n",
        "import torchvision\n",
        "from torchvision import datasets\n",
        "from torchvision import transforms\n",
        "from torchvision.transforms import ToTensor\n",
        "\n",
        "# !pip install torchmetrics -U mlxtend \n",
        "\n",
        "import torchmetrics\n",
        "from torchmetrics import ConfusionMatrix\n",
        "\n",
        "import mlxtend # >= 0.19\n",
        "from mlxtend.plotting import plot_confusion_matrix\n",
        "\n",
        "import random\n",
        "import pandas as pd\n",
        "from pathlib import Path\n",
        "from tqdm.auto import tqdm\n",
        "import matplotlib.pyplot as plt\n",
        "from timeit import default_timer as timer \n",
        "\n",
        "print(\n",
        "f''' \n",
        "All modules are installed correctly\n",
        "\n",
        "PyTorch: {torch.__version__}\n",
        "TorchVision: {torchvision.__version__}\n",
        "TorchMetrics: {torchmetrics.__version__}\n",
        "MLxtend: {mlxtend.__version__}\n",
        "'''\n",
        ")\n",
        "\n",
        "# Check MLextend version\n",
        "assert int(mlxtend.__version__.split(\".\")[1]) >= 19, \"\\nMLxtend version should be 0.19.0 or higher\""
      ]
    },
    {
      "cell_type": "code",
      "execution_count": 2,
      "metadata": {
        "colab": {
          "base_uri": "https://localhost:8080/"
        },
        "id": "0c9Lzi8cSzLJ",
        "outputId": "8fc8994f-6cff-48d8-98ba-92cfad89b9d1"
      },
      "outputs": [
        {
          "name": "stdout",
          "output_type": "stream",
          "text": [
            "\n",
            "All hyperparaneters are defined correctly\n"
          ]
        }
      ],
      "source": [
        "# Hyperparameters\n",
        "SEED = 42\n",
        "EPOCHS = 5\n",
        "HIDDEN = 10\n",
        "WIDTH = 28\n",
        "HEIGHT = 28\n",
        "BATCH_SIZE = 32\n",
        "LEARNING_RATE = 0.1\n",
        "print(\"\\nAll hyperparaneters are defined correctly\")"
      ]
    },
    {
      "cell_type": "code",
      "execution_count": 3,
      "metadata": {
        "colab": {
          "base_uri": "https://localhost:8080/"
        },
        "id": "vY_5Im5JS096",
        "outputId": "0d490cf7-1cdd-48b3-a7c2-9a8368b75b47"
      },
      "outputs": [
        {
          "name": "stdout",
          "output_type": "stream",
          "text": [
            "\n",
            "Using device: cpu\n",
            "\n",
            "NVIDIA-SMI has failed because it couldn't communicate with the NVIDIA driver. Make sure that the latest NVIDIA driver is installed and running.\n",
            "\n"
          ]
        }
      ],
      "source": [
        "# Setup device agnostic code\n",
        "device = \"cuda\" if torch.cuda.is_available() else \"cpu\"\n",
        "print(f\"\\nUsing device: {device}\\n\")\n",
        "!nvidia-smi"
      ]
    },
    {
      "cell_type": "markdown",
      "metadata": {
        "id": "Nwj0AQK873KJ"
      },
      "source": [
        "## **Data Preparation**"
      ]
    },
    {
      "cell_type": "code",
      "execution_count": 4,
      "metadata": {
        "colab": {
          "base_uri": "https://localhost:8080/"
        },
        "id": "AqSUnyh7741d",
        "outputId": "ef7ef7e7-3ad8-4221-be23-f064df81fbed"
      },
      "outputs": [
        {
          "name": "stdout",
          "output_type": "stream",
          "text": [
            "\n",
            "Training Data:\n",
            "Dataset MNIST\n",
            "    Number of datapoints: 60000\n",
            "    Root location: data\n",
            "    Split: Train\n",
            "    StandardTransform\n",
            "Transform: ToTensor()\n",
            "\n",
            "Testing Data:\n",
            "Dataset MNIST\n",
            "    Number of datapoints: 10000\n",
            "    Root location: data\n",
            "    Split: Test\n",
            "    StandardTransform\n",
            "Transform: ToTensor()\n",
            "\n"
          ]
        }
      ],
      "source": [
        "# Get the MNIST train dataset \n",
        "train_data = datasets.MNIST(\n",
        "    root=\"data\",\n",
        "    train=True,\n",
        "    download=True,\n",
        "    transform=transforms.ToTensor()\n",
        ") \n",
        "\n",
        "# Get the MNIST test dataset\n",
        "test_data = datasets.MNIST(\n",
        "    root=\"data\",\n",
        "    train=False,\n",
        "    download=True,\n",
        "    transform=transforms.ToTensor()\n",
        ") \n",
        "\n",
        "# See the first training example\n",
        "image, label = train_data[0]\n",
        "\n",
        "# get name from lable (index)\n",
        "class_names = train_data.classes\n",
        "\n",
        "# get index from name\n",
        "class_to_idx = train_data.class_to_idx\n",
        "\n",
        "print(\n",
        "f'''\n",
        "Training Data:\n",
        "{train_data}\n",
        "\n",
        "Testing Data:\n",
        "{test_data}\n",
        "'''\n",
        ")"
      ]
    },
    {
      "cell_type": "code",
      "execution_count": 5,
      "metadata": {
        "colab": {
          "base_uri": "https://localhost:8080/"
        },
        "id": "8TOaPywN6aRN",
        "outputId": "72f2263b-54bc-4fc2-d1ea-92d557800491"
      },
      "outputs": [
        {
          "name": "stdout",
          "output_type": "stream",
          "text": [
            "\n",
            "DataLoaders:\n",
            "<torch.utils.data.dataloader.DataLoader object at 0x7fd816d5a150>\n",
            "<torch.utils.data.dataloader.DataLoader object at 0x7fd816d5a110>\n",
            "\n",
            "Length of train_dataloader:  1875 batches of 32\n",
            "Length of test_dataloader:   313 batches of 32\n",
            "\n",
            "Shape of train_features:     torch.Size([32, 1, 28, 28])\n",
            "Shape of train_labels:       torch.Size([32])\n",
            "\n"
          ]
        }
      ],
      "source": [
        "# Turn data into batches of size BATCH_SIZE\n",
        "\n",
        "train_dataloader = DataLoader(dataset=train_data,\n",
        "                              batch_size=BATCH_SIZE,\n",
        "                              shuffle=True)\n",
        "\n",
        "test_dataloader = DataLoader(dataset=test_data,\n",
        "                             batch_size=BATCH_SIZE,\n",
        "                             shuffle=False)\n",
        "\n",
        "train_features_batch, train_labels_batch = next(iter(train_dataloader))\n",
        "\n",
        "print(\n",
        "f'''\n",
        "DataLoaders:\n",
        "{train_dataloader}\n",
        "{test_dataloader}\n",
        "\n",
        "Length of train_dataloader:  {len(train_dataloader)} batches of {BATCH_SIZE}\n",
        "Length of test_dataloader:   {len(test_dataloader)} batches of {BATCH_SIZE}\n",
        "\n",
        "Shape of train_features:     {train_features_batch.shape}\n",
        "Shape of train_labels:       {train_labels_batch.shape}\n",
        "'''\n",
        ")"
      ]
    },
    {
      "cell_type": "markdown",
      "metadata": {
        "id": "5flVtV9r9aIp"
      },
      "source": [
        "## **Data Visualization**"
      ]
    },
    {
      "cell_type": "code",
      "execution_count": 6,
      "metadata": {
        "colab": {
          "base_uri": "https://localhost:8080/",
          "height": 591
        },
        "id": "BxvnMM4L92Jo",
        "outputId": "7106b602-49c1-4bce-98cd-828cc933daf6"
      },
      "outputs": [
        {
          "data": {
            "image/png": "[encoded data removed]",
            "text/plain": [
              "<Figure size 720x720 with 16 Axes>"
            ]
          },
          "metadata": {
            "needs_background": "light"
          },
          "output_type": "display_data"
        }
      ],
      "source": [
        "# Plot 16 random images from our dataset\n",
        "fig = plt.figure(figsize=(10, 10))\n",
        "rows, cols = 4, 4\n",
        "torch.manual_seed(SEED)\n",
        "\n",
        "for i in range(1, rows*cols+1):\n",
        "\n",
        "    # get a random index\n",
        "    random_idx = torch.randint(0, len(train_data), size=[1]).item()\n",
        "\n",
        "    # get image and lable from index\n",
        "    img, label = train_data[random_idx]\n",
        "\n",
        "    # add image to subplot in grayscale\n",
        "    fig.add_subplot(rows, cols, i)\n",
        "    plt.imshow(img.squeeze(), cmap=\"gray\")\n",
        "    plt.title(class_names[label])\n",
        "    plt.axis(False);"
      ]
    },
    {
      "cell_type": "markdown",
      "metadata": {
        "id": "-t2hodtbdvqb"
      },
      "source": [
        "## **Helper Functions**"
      ]
    },
    {
      "cell_type": "code",
      "execution_count": 7,
      "metadata": {
        "id": "8H2mGeZ7fi9y"
      },
      "outputs": [],
      "source": [
        "# Calculates accuracy between truth labels and predictions\n",
        "def accuracy_fn(y_pred, y_true):\n",
        "    correct = torch.eq(y_true, y_pred).sum().item()\n",
        "    acc = (correct / len(y_pred)) * 100\n",
        "    return acc"
      ]
    },
    {
      "cell_type": "code",
      "execution_count": 8,
      "metadata": {
        "id": "UEDqsTNnfk8w"
      },
      "outputs": [],
      "source": [
        "# Prints difference between start and end time\n",
        "def print_train_time(start: float, end: float, device: torch.device = None):\n",
        "    total_time = end - start\n",
        "    print(f\"\\nTrain time on {device}: {total_time:.3f} seconds\")\n",
        "    return total_time"
      ]
    },
    {
      "cell_type": "code",
      "execution_count": 9,
      "metadata": {
        "id": "18Xe7_dWgDmI"
      },
      "outputs": [],
      "source": [
        "def training(model: torch.nn.Module,\n",
        "             data_loader: torch.utils.data.DataLoader,\n",
        "             loss_fn: torch.nn.Module,\n",
        "             optimizer: torch.optim.Optimizer,\n",
        "             accuracy_fn,\n",
        "             device: torch.device = device):\n",
        "    \n",
        "    \"\"\"Performs a training with model trying to learn on data_loader\"\"\"\n",
        "\n",
        "    # Metrics\n",
        "    train_loss, train_acc = 0, 0\n",
        "\n",
        "    # Send model to taget device\n",
        "    model.to(device)\n",
        "\n",
        "    # Put model into training mode\n",
        "    model.train()\n",
        "\n",
        "    # Start training loop\n",
        "    for (X, y) in data_loader:\n",
        "\n",
        "        # Send data to target device \n",
        "        X, y = X.to(device), y.to(device)\n",
        "\n",
        "        # 1. Forward pass\n",
        "        y_logits = model(X)\n",
        "        y_pred = y_logits.argmax(dim=1)\n",
        "\n",
        "        # 2. Calculate loss\n",
        "        loss = loss_fn(y_logits, y)\n",
        "        train_loss += loss\n",
        "\n",
        "        # 3. Calculate accuracy\n",
        "        acc = accuracy_fn(y_pred, y)\n",
        "        train_acc += acc\n",
        "\n",
        "        # 4. Update parameters\n",
        "        optimizer.zero_grad()\n",
        "        loss.backward()\n",
        "        optimizer.step() \n",
        "  \n",
        "    # Get average metric per batch\n",
        "    train_loss /= len(data_loader)\n",
        "    train_acc /= len(data_loader)\n",
        "\n",
        "    # Progress tracking\n",
        "    print(f\"Train loss: {train_loss:.4f}  |  Train acc: {train_acc:.1f}%\")"
      ]
    },
    {
      "cell_type": "code",
      "execution_count": 10,
      "metadata": {
        "id": "hyTQBKGXgGBa"
      },
      "outputs": [],
      "source": [
        "def testing(model: torch.nn.Module,\n",
        "            data_loader: torch.utils.data.DataLoader, \n",
        "            loss_fn: torch.nn.Module,\n",
        "            accuracy_fn,\n",
        "            device: torch.device = device,\n",
        "            output: bool = True):\n",
        "    \n",
        "    \"\"\"Performs a testing loop step on model going over data_loader\"\"\"\n",
        "\n",
        "    # Start the timer\n",
        "    time_start = timer()\n",
        "\n",
        "    # Metrics\n",
        "    test_loss, test_acc = 0, 0\n",
        "\n",
        "    # Send model to taget device\n",
        "    model.to(device)\n",
        "\n",
        "    # Put model into evaluation mode\n",
        "    model.eval()\n",
        "\n",
        "    # Start testing loop\n",
        "    with torch.inference_mode():\n",
        "        for (X, y) in data_loader:\n",
        "\n",
        "            # Send data to target device \n",
        "            X, y = X.to(device), y.to(device)\n",
        "\n",
        "            # 1. Forward pass\n",
        "            y_logits = model(X)\n",
        "            y_pred = y_logits.argmax(dim=1)\n",
        "\n",
        "            # 2. Calculate loss\n",
        "            loss = loss_fn(y_logits, y)\n",
        "            test_loss += loss\n",
        "\n",
        "            # 3. Calculate accuracy\n",
        "            acc = accuracy_fn(y_pred, y)\n",
        "            test_acc += acc\n",
        "\n",
        "         # Get average metric per batch\n",
        "        test_loss /= len(data_loader)\n",
        "        test_acc /= len(data_loader)\n",
        "\n",
        "    # Progress Tracking\n",
        "    if output: print(f\"Test loss: {test_loss:.5f}  |  Test acc: {test_acc:.2f}%\")\n",
        "\n",
        "    # Stop the timer\n",
        "    time_end = timer()\n",
        "\n",
        "    return {\n",
        "        \"model_name\": model.__class__.__name__, \n",
        "        \"model_loss\": test_loss.item(),\n",
        "        \"model_acc\": test_acc,\n",
        "        \"test_time\": time_end - time_start\n",
        "    }"
      ]
    },
    {
      "cell_type": "markdown",
      "metadata": {
        "id": "_SDvlnqtlc8n"
      },
      "source": [
        "## **Convolutional Neural Network**"
      ]
    },
    {
      "cell_type": "code",
      "execution_count": 11,
      "metadata": {
        "id": "AZSsxtInlghh"
      },
      "outputs": [],
      "source": [
        "class DigitModel(nn.Module):\n",
        "\n",
        "    \"\"\"Model architecture that replicates the TinyVGG model from CNN explainer website.\"\"\"\n",
        "\n",
        "    def __init__(self, input_shape: int, hidden_units: int, output_shape: int):\n",
        "        super().__init__()\n",
        "\n",
        "        self.conv_block_1 = nn.Sequential(\n",
        "            nn.Conv2d(\n",
        "                in_channels = input_shape, \n",
        "                out_channels = hidden_units,\n",
        "                kernel_size = 3,\n",
        "                stride = 1,\n",
        "                padding = 1,\n",
        "            ), \n",
        "            nn.ReLU(),\n",
        "            nn.Conv2d(\n",
        "                in_channels = hidden_units,\n",
        "                out_channels = hidden_units,\n",
        "                kernel_size = 3,\n",
        "                stride = 1,\n",
        "                padding = 1,\n",
        "            ),\n",
        "            nn.ReLU(),\n",
        "            nn.MaxPool2d(kernel_size = 2)\n",
        "        )\n",
        "\n",
        "        self.conv_block_2 = nn.Sequential(\n",
        "            nn.Conv2d(\n",
        "                in_channels = hidden_units,\n",
        "                out_channels = hidden_units,\n",
        "                kernel_size = 3,\n",
        "                stride = 1,\n",
        "                padding = 1,\n",
        "            ),\n",
        "            nn.ReLU(),\n",
        "            nn.Conv2d(\n",
        "                in_channels = hidden_units,\n",
        "                out_channels = hidden_units,\n",
        "                kernel_size = 3,\n",
        "                stride = 1,\n",
        "                padding = 1,\n",
        "            ),\n",
        "            nn.ReLU(),\n",
        "            nn.MaxPool2d(kernel_size = 2)\n",
        "        )\n",
        "\n",
        "        self.classifier = nn.Sequential(\n",
        "            nn.Flatten(),\n",
        "            nn.Linear(\n",
        "                in_features = hidden_units * 7 * 7, #  dimensional analysis\n",
        "                out_features=output_shape\n",
        "            )\n",
        "        )\n",
        "\n",
        "    def forward(self, x):\n",
        "        x = self.conv_block_1(x)\n",
        "        x = self.conv_block_2(x) \n",
        "        x = self.classifier(x)\n",
        "        return x"
      ]
    },
    {
      "cell_type": "code",
      "execution_count": 12,
      "metadata": {
        "colab": {
          "base_uri": "https://localhost:8080/"
        },
        "id": "uN-K0OA1lpQJ",
        "outputId": "a389710b-1df9-4f99-eba6-2603f28681ee"
      },
      "outputs": [
        {
          "name": "stdout",
          "output_type": "stream",
          "text": [
            "DigitModel(\n",
            "  (conv_block_1): Sequential(\n",
            "    (0): Conv2d(1, 10, kernel_size=(3, 3), stride=(1, 1), padding=(1, 1))\n",
            "    (1): ReLU()\n",
            "    (2): Conv2d(10, 10, kernel_size=(3, 3), stride=(1, 1), padding=(1, 1))\n",
            "    (3): ReLU()\n",
            "    (4): MaxPool2d(kernel_size=2, stride=2, padding=0, dilation=1, ceil_mode=False)\n",
            "  )\n",
            "  (conv_block_2): Sequential(\n",
            "    (0): Conv2d(10, 10, kernel_size=(3, 3), stride=(1, 1), padding=(1, 1))\n",
            "    (1): ReLU()\n",
            "    (2): Conv2d(10, 10, kernel_size=(3, 3), stride=(1, 1), padding=(1, 1))\n",
            "    (3): ReLU()\n",
            "    (4): MaxPool2d(kernel_size=2, stride=2, padding=0, dilation=1, ceil_mode=False)\n",
            "  )\n",
            "  (classifier): Sequential(\n",
            "    (0): Flatten(start_dim=1, end_dim=-1)\n",
            "    (1): Linear(in_features=490, out_features=10, bias=True)\n",
            "  )\n",
            ") device: cpu\n"
          ]
        }
      ],
      "source": [
        "# Reproducibility\n",
        "torch.manual_seed(SEED)\n",
        "torch.cuda.manual_seed(SEED)\n",
        "\n",
        "# Create instance\n",
        "model = DigitModel(\n",
        "    input_shape = 1, # color channels\n",
        "    hidden_units = HIDDEN,\n",
        "    output_shape = len(class_names)\n",
        ")\n",
        "\n",
        "# Send model to target device\n",
        "model.to(device)\n",
        "\n",
        "# Show Architecture\n",
        "print(f\"{model} device: {next(model.parameters()).device}\")"
      ]
    },
    {
      "cell_type": "markdown",
      "metadata": {
        "id": "r4QVXgXtmNhg"
      },
      "source": [
        "## **Dimensional Analysis**"
      ]
    },
    {
      "cell_type": "code",
      "execution_count": 13,
      "metadata": {
        "colab": {
          "base_uri": "https://localhost:8080/"
        },
        "id": "Ld2pq9g9mY19",
        "outputId": "12870947-2aa7-4bd1-8e4a-fafe543bb676"
      },
      "outputs": [
        {
          "name": "stdout",
          "output_type": "stream",
          "text": [
            "\n",
            "Tiny VGG Architecture\n",
            "\n",
            "Input Layer\n",
            "image: [1, 1, 28, 28]\n",
            "\n",
            "Convolutional Block 1\n",
            "conv1: [1, 10, 28, 28]\n",
            "relu1: [1, 10, 28, 28]\n",
            "conv2: [1, 10, 28, 28]\n",
            "relu2: [1, 10, 28, 28]\n",
            "pool1: [1, 10, 14, 14]\n",
            "\n",
            "Convolutional Block 2\n",
            "conv3: [1, 10, 14, 14]\n",
            "relu3: [1, 10, 14, 14]\n",
            "conv4: [1, 10, 14, 14]\n",
            "relu4: [1, 10, 14, 14]\n",
            "pool2: [1, 10, 7, 7]\n",
            "\n",
            "Classifier Block\n",
            "flat:  [1, 490]\n",
            "out:   [1, 10]\n",
            "\n"
          ]
        }
      ],
      "source": [
        "# layers\n",
        "input_layer = nn.Conv2d(in_channels=1, out_channels=10, kernel_size=3, stride=1, padding=1)\n",
        "conv_layer = nn.Conv2d(in_channels=10, out_channels=10, kernel_size=3, stride=1, padding=1)\n",
        "relu_layer = nn.ReLU()\n",
        "pooling_layer = nn.MaxPool2d(kernel_size = 2)\n",
        "flatten_layer =  nn.Flatten()\n",
        "linear_layer = nn.Linear(in_features = 10*7*7, out_features=10)\n",
        "\n",
        "# computations\n",
        "image = torch.rand(1, 1, 28, 28)\n",
        "conv1 = input_layer(image)\n",
        "relu1 = relu_layer(conv1)\n",
        "conv2 = conv_layer(relu1)\n",
        "relu2 = relu_layer(conv2)\n",
        "pool1 = pooling_layer(relu2)\n",
        "conv3 = conv_layer(pool1)\n",
        "relu3 = relu_layer(conv3)\n",
        "conv4 = conv_layer(relu3)\n",
        "relu4 = relu_layer(conv4)\n",
        "pool2 = pooling_layer(relu4)\n",
        "flat = flatten_layer(pool2)\n",
        "output = linear_layer(flat)\n",
        "\n",
        "print(\n",
        "f'''\n",
        "Tiny VGG Architecture\n",
        "\n",
        "Input Layer\n",
        "image: {list(image.size())}\n",
        "\n",
        "Convolutional Block 1\n",
        "conv1: {list(conv1.size())}\n",
        "relu1: {list(relu1.size())}\n",
        "conv2: {list(conv2.size())}\n",
        "relu2: {list(relu2.size())}\n",
        "pool1: {list(pool1.size())}\n",
        "\n",
        "Convolutional Block 2\n",
        "conv3: {list(conv3.size())}\n",
        "relu3: {list(relu3.size())}\n",
        "conv4: {list(conv4.size())}\n",
        "relu4: {list(relu4.size())}\n",
        "pool2: {list(pool2.size())}\n",
        "\n",
        "Classifier Block\n",
        "flat:  {list(flat.size())}\n",
        "out:   {list(output.size())}\n",
        "'''\n",
        ")\n"
      ]
    },
    {
      "cell_type": "markdown",
      "metadata": {
        "id": "L460jRAwmkna"
      },
      "source": [
        "## **Training & Testing**"
      ]
    },
    {
      "cell_type": "code",
      "execution_count": 14,
      "metadata": {
        "colab": {
          "base_uri": "https://localhost:8080/",
          "height": 518,
          "referenced_widgets": [
            "e4a8941e85754f7aa85490f5a65be1c5",
            "4697b19ca9b44d43ab1ba90b8fd0f608",
            "9e6840ad94b048d5866b6576421d1f3c",
            "2f7fd27bf8d34f6fb7d53bc8065d9427",
            "8565fc27702a4b18aefcf761ec4a8e46",
            "1147931bee2a449dbc9640727890e7c3",
            "8d156259488b4c908299c1ee03274b45",
            "b5d8a9412792406eaac459a56dd8d513",
            "d8834ea395ab4e71822771faf4faadcb",
            "0959e4cf2cf044f78a33391b07c4314e",
            "8e5cd8b4e9554773bcd3f841ffc3ef62"
          ]
        },
        "id": "8bm6JTsMmmdA",
        "outputId": "755e4773-7864-418c-82fa-da0cd7afa594"
      },
      "outputs": [
        {
          "data": {
            "application/vnd.jupyter.widget-view+json": {
              "model_id": "e4a8941e85754f7aa85490f5a65be1c5",
              "version_major": 2,
              "version_minor": 0
            },
            "text/plain": [
              "  0%|          | 0/5 [00:00<?, ?it/s]"
            ]
          },
          "metadata": {},
          "output_type": "display_data"
        },
        {
          "name": "stdout",
          "output_type": "stream",
          "text": [
            "\n",
            "Epoch: 0\n",
            "Train loss: 0.3356  |  Train acc: 88.7%\n",
            "Test loss: 0.07362  |  Test acc: 97.71%\n",
            "_____________________________________________\n",
            "\n",
            "Epoch: 1\n",
            "Train loss: 0.0822  |  Train acc: 97.4%\n",
            "Test loss: 0.06596  |  Test acc: 97.95%\n",
            "_____________________________________________\n",
            "\n",
            "Epoch: 2\n",
            "Train loss: 0.0644  |  Train acc: 98.0%\n",
            "Test loss: 0.05947  |  Test acc: 98.04%\n",
            "_____________________________________________\n",
            "\n",
            "Epoch: 3\n",
            "Train loss: 0.0559  |  Train acc: 98.2%\n",
            "Test loss: 0.06140  |  Test acc: 97.92%\n",
            "_____________________________________________\n",
            "\n",
            "Epoch: 4\n",
            "Train loss: 0.0498  |  Train acc: 98.4%\n",
            "Test loss: 0.04684  |  Test acc: 98.39%\n",
            "_____________________________________________\n",
            "\n",
            "Train time on cpu: 270.989 seconds\n"
          ]
        }
      ],
      "source": [
        "# Reproducibility\n",
        "torch.manual_seed(SEED)\n",
        "torch.cuda.manual_seed(SEED)\n",
        "\n",
        "# Setup loss function\n",
        "loss_fn = nn.CrossEntropyLoss() \n",
        "\n",
        "# Setup optimizer\n",
        "optimizer = torch.optim.SGD(params=model.parameters(), lr=LEARNING_RATE)\n",
        "\n",
        "# Start the timer\n",
        "time_start = timer()\n",
        "\n",
        "# Training & testing loop\n",
        "for epoch in tqdm(range(EPOCHS)):\n",
        "\n",
        "    print(f\"\\nEpoch: {epoch}\")\n",
        "\n",
        "    training(\n",
        "        model = model,\n",
        "        data_loader = train_dataloader,\n",
        "        loss_fn = loss_fn,\n",
        "        optimizer = optimizer,\n",
        "        accuracy_fn = accuracy_fn,\n",
        "    )\n",
        "  \n",
        "    testing(\n",
        "        model = model,\n",
        "        data_loader = test_dataloader,\n",
        "        loss_fn = loss_fn,\n",
        "        accuracy_fn = accuracy_fn,\n",
        "    )\n",
        "\n",
        "    print(f\"{'_'*45}\")\n",
        "\n",
        "# Stop the timer\n",
        "time_end = timer()\n",
        "\n",
        "# Calculate training time\n",
        "train_time = print_train_time(time_start, time_end, device)"
      ]
    },
    {
      "cell_type": "markdown",
      "metadata": {
        "id": "WAz7P5vLoX-Z"
      },
      "source": [
        "## **Evaluation**"
      ]
    },
    {
      "cell_type": "code",
      "execution_count": 15,
      "metadata": {
        "colab": {
          "base_uri": "https://localhost:8080/"
        },
        "id": "uQTvwrGDnFnS",
        "outputId": "d591f97b-d2e2-48f1-f281-17106929570d"
      },
      "outputs": [
        {
          "name": "stdout",
          "output_type": "stream",
          "text": [
            "\n",
            "Model Name:      DigitModel\n",
            "Model Loss:      0.04684\n",
            "Model Accuracy:  98.39 %\n",
            "Training Time:   270.99 seconds\n",
            "Testing Time:    4.00 seconds\n",
            "\n"
          ]
        }
      ],
      "source": [
        "# Display model metrics\n",
        "results = testing(model, test_dataloader, loss_fn, accuracy_fn, output=False)\n",
        "\n",
        "print(\n",
        "f'''\n",
        "Model Name:      {results[\"model_name\"]}\n",
        "Model Loss:      {results[\"model_loss\"]:.5f}\n",
        "Model Accuracy:  {results[\"model_acc\"]:.2f} %\n",
        "Training Time:   {train_time:.2f} seconds\n",
        "Testing Time:    {results[\"test_time\"]:.2f} seconds\n",
        "'''\n",
        ")"
      ]
    },
    {
      "cell_type": "code",
      "execution_count": 16,
      "metadata": {
        "colab": {
          "base_uri": "https://localhost:8080/",
          "height": 534
        },
        "id": "-YVKIHJ_oj4l",
        "outputId": "f16116a0-6fda-4705-cb64-9ae62073c7ad"
      },
      "outputs": [
        {
          "data": {
            "image/png": "[encoded data removed]",
            "text/plain": [
              "<Figure size 648x648 with 9 Axes>"
            ]
          },
          "metadata": {
            "needs_background": "light"
          },
          "output_type": "display_data"
        }
      ],
      "source": [
        "# Pick 9 random images from the test dataset and plot the predictions\n",
        "\n",
        "test_images, test_labels = [], []\n",
        "plt.figure(figsize=(9, 9))\n",
        "rows, columns = 3, 3\n",
        "counter = 0\n",
        "\n",
        "for image, image_lable in random.sample(list(test_data), k=9):\n",
        "\n",
        "    # Update counter\n",
        "    counter +=1\n",
        "\n",
        "    # Prepare image\n",
        "    image = torch.unsqueeze(image, dim=0).to(device)\n",
        "\n",
        "    # Classify image\n",
        "    pred_logit = model(image)\n",
        "    pred_prob = torch.softmax(pred_logit.squeeze(), dim=0)\n",
        "    pred_label = pred_prob.argmax().cpu()\n",
        "    pred_class =  class_names[pred_label]\n",
        "\n",
        "    # Get true class\n",
        "    image_class = class_names[image_lable]\n",
        "  \n",
        "    # Add image to subplot\n",
        "    plt.subplot(rows, columns, counter)\n",
        "\n",
        "    # Plot the target image\n",
        "    plt.imshow(image.squeeze(), cmap=\"gray\")\n",
        "\n",
        "    # Create a title for the plot\n",
        "    title_text = f\"Pred: {pred_class} | Truth: {image_class}\"\n",
        "\n",
        "    # Check for equality between pred and truth and change color of title text\n",
        "    if pred_class == image_class: plt.title(title_text, fontsize=10, c=\"g\") \n",
        "    else: plt.title(title_text, fontsize=10, c=\"r\") \n",
        "    plt.axis(False);"
      ]
    },
    {
      "cell_type": "code",
      "execution_count": 17,
      "metadata": {
        "colab": {
          "base_uri": "https://localhost:8080/",
          "height": 472
        },
        "id": "1V-3rT6boFqh",
        "outputId": "f15cabc1-465f-467d-efef-1221c7f1791b"
      },
      "outputs": [
        {
          "data": {
            "image/png": "[encoded data removed]",
            "text/plain": [
              "<Figure size 720x504 with 1 Axes>"
            ]
          },
          "metadata": {
            "needs_background": "light"
          },
          "output_type": "display_data"
        }
      ],
      "source": [
        "# Diplay confusion matrix\n",
        "\n",
        "y_preds = []\n",
        "model.eval()\n",
        "\n",
        "# Make prediction with model\n",
        "with torch.inference_mode():\n",
        "  for X, y in test_dataloader:\n",
        "\n",
        "    # Send both data and model to target device\n",
        "    X, y, model = X.to(device), y.to(device), model.to(device)\n",
        "\n",
        "    # Classify Image\n",
        "    y_logit = model(X)\n",
        "    y_prob = torch.softmax(y_logit.squeeze(), dim=0)\n",
        "    y_lable = y_prob.argmax(dim=1).cpu()\n",
        "\n",
        "    # Add to prediction array\n",
        "    y_preds.append(y_lable)\n",
        "\n",
        "# Concatenate list of predictions into a tensor\n",
        "y_pred_tensor = torch.cat(y_preds)\n",
        "\n",
        "# Setup confusion instance and compare predictions to targets\n",
        "confmat = ConfusionMatrix(num_classes=len(class_names))\n",
        "confmat_tensor = confmat(preds=y_pred_tensor, target=test_data.targets)\n",
        "\n",
        "# Plot the confusion matrix\n",
        "fig, ax = plot_confusion_matrix(\n",
        "    conf_mat = confmat_tensor.numpy(), \n",
        "    class_names = class_names,\n",
        "    figsize = (10, 7)\n",
        ")"
      ]
    },
    {
      "cell_type": "markdown",
      "metadata": {
        "id": "oRoWf0--5vRJ"
      },
      "source": [
        "## Saving Model"
      ]
    },
    {
      "cell_type": "code",
      "execution_count": 18,
      "metadata": {
        "colab": {
          "base_uri": "https://localhost:8080/"
        },
        "id": "WH_BvUka52sb",
        "outputId": "46de5de8-517e-47d9-bb29-7fb4c8ed07b1"
      },
      "outputs": [
        {
          "name": "stdout",
          "output_type": "stream",
          "text": [
            "Saving model to: models/handwritten-digit-recognition.pth\n"
          ]
        }
      ],
      "source": [
        "# Create model dictory path\n",
        "MODEL_PATH = Path(\"models\")\n",
        "MODEL_PATH.mkdir(parents=True, exist_ok=True)\n",
        "\n",
        "# Create model save\n",
        "MODEL_NAME = \"handwritten-digit-recognition.pth\"\n",
        "MODEL_SAVE_PATH = MODEL_PATH / MODEL_NAME\n",
        "\n",
        "# Save the model state dict\n",
        "print(f\"Saving model to: {MODEL_SAVE_PATH}\")\n",
        "torch.save(obj=model.state_dict(), f=MODEL_SAVE_PATH)"
      ]
    }
  ],
  "metadata": {
    "colab": {
      "provenance": []
    },
    "gpuClass": "standard",
    "kernelspec": {
      "display_name": "Python 3.9.6 64-bit",
      "language": "python",
      "name": "python3"
    },
    "language_info": {
      "name": "python",
      "version": "3.9.6"
    },
    "vscode": {
      "interpreter": {
        "hash": "32dcf48a0bd95ac63839b9c53d0ebb03f91e82aa8cf6ce4857a2df3abfacedec"
      }
    },
    "widgets": {
      "application/vnd.jupyter.widget-state+json": {
        "0959e4cf2cf044f78a33391b07c4314e": {
          "model_module": "@jupyter-widgets/base",
          "model_module_version": "1.2.0",
          "model_name": "LayoutModel",
          "state": {
            "_model_module": "@jupyter-widgets/base",
            "_model_module_version": "1.2.0",
            "_model_name": "LayoutModel",
            "_view_count": null,
            "_view_module": "@jupyter-widgets/base",
            "_view_module_version": "1.2.0",
            "_view_name": "LayoutView",
            "align_content": null,
            "align_items": null,
            "align_self": null,
            "border": null,
            "bottom": null,
            "display": null,
            "flex": null,
            "flex_flow": null,
            "grid_area": null,
            "grid_auto_columns": null,
            "grid_auto_flow": null,
            "grid_auto_rows": null,
            "grid_column": null,
            "grid_gap": null,
            "grid_row": null,
            "grid_template_areas": null,
            "grid_template_columns": null,
            "grid_template_rows": null,
            "height": null,
            "justify_content": null,
            "justify_items": null,
            "left": null,
            "margin": null,
            "max_height": null,
            "max_width": null,
            "min_height": null,
            "min_width": null,
            "object_fit": null,
            "object_position": null,
            "order": null,
            "overflow": null,
            "overflow_x": null,
            "overflow_y": null,
            "padding": null,
            "right": null,
            "top": null,
            "visibility": null,
            "width": null
          }
        },
        "1147931bee2a449dbc9640727890e7c3": {
          "model_module": "@jupyter-widgets/base",
          "model_module_version": "1.2.0",
          "model_name": "LayoutModel",
          "state": {
            "_model_module": "@jupyter-widgets/base",
            "_model_module_version": "1.2.0",
            "_model_name": "LayoutModel",
            "_view_count": null,
            "_view_module": "@jupyter-widgets/base",
            "_view_module_version": "1.2.0",
            "_view_name": "LayoutView",
            "align_content": null,
            "align_items": null,
            "align_self": null,
            "border": null,
            "bottom": null,
            "display": null,
            "flex": null,
            "flex_flow": null,
            "grid_area": null,
            "grid_auto_columns": null,
            "grid_auto_flow": null,
            "grid_auto_rows": null,
            "grid_column": null,
            "grid_gap": null,
            "grid_row": null,
            "grid_template_areas": null,
            "grid_template_columns": null,
            "grid_template_rows": null,
            "height": null,
            "justify_content": null,
            "justify_items": null,
            "left": null,
            "margin": null,
            "max_height": null,
            "max_width": null,
            "min_height": null,
            "min_width": null,
            "object_fit": null,
            "object_position": null,
            "order": null,
            "overflow": null,
            "overflow_x": null,
            "overflow_y": null,
            "padding": null,
            "right": null,
            "top": null,
            "visibility": null,
            "width": null
          }
        },
        "2f7fd27bf8d34f6fb7d53bc8065d9427": {
          "model_module": "@jupyter-widgets/controls",
          "model_module_version": "1.5.0",
          "model_name": "HTMLModel",
          "state": {
            "_dom_classes": [],
            "_model_module": "@jupyter-widgets/controls",
            "_model_module_version": "1.5.0",
            "_model_name": "HTMLModel",
            "_view_count": null,
            "_view_module": "@jupyter-widgets/controls",
            "_view_module_version": "1.5.0",
            "_view_name": "HTMLView",
            "description": "",
            "description_tooltip": null,
            "layout": "IPY_MODEL_0959e4cf2cf044f78a33391b07c4314e",
            "placeholder": "​",
            "style": "IPY_MODEL_8e5cd8b4e9554773bcd3f841ffc3ef62",
            "value": " 5/5 [04:30&lt;00:00, 53.88s/it]"
          }
        },
        "4697b19ca9b44d43ab1ba90b8fd0f608": {
          "model_module": "@jupyter-widgets/controls",
          "model_module_version": "1.5.0",
          "model_name": "HTMLModel",
          "state": {
            "_dom_classes": [],
            "_model_module": "@jupyter-widgets/controls",
            "_model_module_version": "1.5.0",
            "_model_name": "HTMLModel",
            "_view_count": null,
            "_view_module": "@jupyter-widgets/controls",
            "_view_module_version": "1.5.0",
            "_view_name": "HTMLView",
            "description": "",
            "description_tooltip": null,
            "layout": "IPY_MODEL_1147931bee2a449dbc9640727890e7c3",
            "placeholder": "​",
            "style": "IPY_MODEL_8d156259488b4c908299c1ee03274b45",
            "value": "100%"
          }
        },
        "8565fc27702a4b18aefcf761ec4a8e46": {
          "model_module": "@jupyter-widgets/base",
          "model_module_version": "1.2.0",
          "model_name": "LayoutModel",
          "state": {
            "_model_module": "@jupyter-widgets/base",
            "_model_module_version": "1.2.0",
            "_model_name": "LayoutModel",
            "_view_count": null,
            "_view_module": "@jupyter-widgets/base",
            "_view_module_version": "1.2.0",
            "_view_name": "LayoutView",
            "align_content": null,
            "align_items": null,
            "align_self": null,
            "border": null,
            "bottom": null,
            "display": null,
            "flex": null,
            "flex_flow": null,
            "grid_area": null,
            "grid_auto_columns": null,
            "grid_auto_flow": null,
            "grid_auto_rows": null,
            "grid_column": null,
            "grid_gap": null,
            "grid_row": null,
            "grid_template_areas": null,
            "grid_template_columns": null,
            "grid_template_rows": null,
            "height": null,
            "justify_content": null,
            "justify_items": null,
            "left": null,
            "margin": null,
            "max_height": null,
            "max_width": null,
            "min_height": null,
            "min_width": null,
            "object_fit": null,
            "object_position": null,
            "order": null,
            "overflow": null,
            "overflow_x": null,
            "overflow_y": null,
            "padding": null,
            "right": null,
            "top": null,
            "visibility": null,
            "width": null
          }
        },
        "8d156259488b4c908299c1ee03274b45": {
          "model_module": "@jupyter-widgets/controls",
          "model_module_version": "1.5.0",
          "model_name": "DescriptionStyleModel",
          "state": {
            "_model_module": "@jupyter-widgets/controls",
            "_model_module_version": "1.5.0",
            "_model_name": "DescriptionStyleModel",
            "_view_count": null,
            "_view_module": "@jupyter-widgets/base",
            "_view_module_version": "1.2.0",
            "_view_name": "StyleView",
            "description_width": ""
          }
        },
        "8e5cd8b4e9554773bcd3f841ffc3ef62": {
          "model_module": "@jupyter-widgets/controls",
          "model_module_version": "1.5.0",
          "model_name": "DescriptionStyleModel",
          "state": {
            "_model_module": "@jupyter-widgets/controls",
            "_model_module_version": "1.5.0",
            "_model_name": "DescriptionStyleModel",
            "_view_count": null,
            "_view_module": "@jupyter-widgets/base",
            "_view_module_version": "1.2.0",
            "_view_name": "StyleView",
            "description_width": ""
          }
        },
        "9e6840ad94b048d5866b6576421d1f3c": {
          "model_module": "@jupyter-widgets/controls",
          "model_module_version": "1.5.0",
          "model_name": "FloatProgressModel",
          "state": {
            "_dom_classes": [],
            "_model_module": "@jupyter-widgets/controls",
            "_model_module_version": "1.5.0",
            "_model_name": "FloatProgressModel",
            "_view_count": null,
            "_view_module": "@jupyter-widgets/controls",
            "_view_module_version": "1.5.0",
            "_view_name": "ProgressView",
            "bar_style": "success",
            "description": "",
            "description_tooltip": null,
            "layout": "IPY_MODEL_b5d8a9412792406eaac459a56dd8d513",
            "max": 5,
            "min": 0,
            "orientation": "horizontal",
            "style": "IPY_MODEL_d8834ea395ab4e71822771faf4faadcb",
            "value": 5
          }
        },
        "b5d8a9412792406eaac459a56dd8d513": {
          "model_module": "@jupyter-widgets/base",
          "model_module_version": "1.2.0",
          "model_name": "LayoutModel",
          "state": {
            "_model_module": "@jupyter-widgets/base",
            "_model_module_version": "1.2.0",
            "_model_name": "LayoutModel",
            "_view_count": null,
            "_view_module": "@jupyter-widgets/base",
            "_view_module_version": "1.2.0",
            "_view_name": "LayoutView",
            "align_content": null,
            "align_items": null,
            "align_self": null,
            "border": null,
            "bottom": null,
            "display": null,
            "flex": null,
            "flex_flow": null,
            "grid_area": null,
            "grid_auto_columns": null,
            "grid_auto_flow": null,
            "grid_auto_rows": null,
            "grid_column": null,
            "grid_gap": null,
            "grid_row": null,
            "grid_template_areas": null,
            "grid_template_columns": null,
            "grid_template_rows": null,
            "height": null,
            "justify_content": null,
            "justify_items": null,
            "left": null,
            "margin": null,
            "max_height": null,
            "max_width": null,
            "min_height": null,
            "min_width": null,
            "object_fit": null,
            "object_position": null,
            "order": null,
            "overflow": null,
            "overflow_x": null,
            "overflow_y": null,
            "padding": null,
            "right": null,
            "top": null,
            "visibility": null,
            "width": null
          }
        },
        "d8834ea395ab4e71822771faf4faadcb": {
          "model_module": "@jupyter-widgets/controls",
          "model_module_version": "1.5.0",
          "model_name": "ProgressStyleModel",
          "state": {
            "_model_module": "@jupyter-widgets/controls",
            "_model_module_version": "1.5.0",
            "_model_name": "ProgressStyleModel",
            "_view_count": null,
            "_view_module": "@jupyter-widgets/base",
            "_view_module_version": "1.2.0",
            "_view_name": "StyleView",
            "bar_color": null,
            "description_width": ""
          }
        },
        "e4a8941e85754f7aa85490f5a65be1c5": {
          "model_module": "@jupyter-widgets/controls",
          "model_module_version": "1.5.0",
          "model_name": "HBoxModel",
          "state": {
            "_dom_classes": [],
            "_model_module": "@jupyter-widgets/controls",
            "_model_module_version": "1.5.0",
            "_model_name": "HBoxModel",
            "_view_count": null,
            "_view_module": "@jupyter-widgets/controls",
            "_view_module_version": "1.5.0",
            "_view_name": "HBoxView",
            "box_style": "",
            "children": [
              "IPY_MODEL_4697b19ca9b44d43ab1ba90b8fd0f608",
              "IPY_MODEL_9e6840ad94b048d5866b6576421d1f3c",
              "IPY_MODEL_2f7fd27bf8d34f6fb7d53bc8065d9427"
            ],
            "layout": "IPY_MODEL_8565fc27702a4b18aefcf761ec4a8e46"
          }
        }
      }
    }
  },
  "nbformat": 4,
  "nbformat_minor": 0
}
